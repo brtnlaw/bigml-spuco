{
 "cells": [
  {
   "cell_type": "code",
   "execution_count": 1,
   "id": "57b028a0",
   "metadata": {},
   "outputs": [],
   "source": [
    "import warnings\n",
    "from tqdm import TqdmWarning\n",
    "\n",
    "warnings.filterwarnings(\"ignore\", category=UserWarning)\n",
    "warnings.filterwarnings(\"ignore\", category=TqdmWarning)"
   ]
  },
  {
   "cell_type": "code",
   "execution_count": 2,
   "id": "012c3f4a",
   "metadata": {},
   "outputs": [],
   "source": [
    "from spuco.datasets import SpuCoMNIST, SpuriousFeatureDifficulty\n",
    "\n",
    "# Defaults from the notebook examples\n",
    "classes = [[0, 1], [2, 3], [4, 5], [6, 7], [8, 9]]\n",
    "difficulty = SpuriousFeatureDifficulty.MAGNITUDE_LARGE\n",
    "\n",
    "trainset = SpuCoMNIST(\n",
    "    root=\"/data/mnist/\",\n",
    "    spurious_feature_difficulty=difficulty,\n",
    "    spurious_correlation_strength=0.995,\n",
    "    classes=classes,\n",
    "    split=\"train\",\n",
    ")\n",
    "trainset.initialize()\n",
    "\n",
    "testset = SpuCoMNIST(\n",
    "    root=\"/data/mnist/\",\n",
    "    spurious_feature_difficulty=difficulty,\n",
    "    classes=classes,\n",
    "    split=\"test\",\n",
    ")\n",
    "testset.initialize()"
   ]
  },
  {
   "cell_type": "markdown",
   "id": "873a24b0",
   "metadata": {},
   "source": [
    "## Step 1:\n",
    "Train a model using ERM."
   ]
  },
  {
   "cell_type": "code",
   "execution_count": 3,
   "id": "5bdb155d",
   "metadata": {},
   "outputs": [],
   "source": [
    "from spuco.robust_train import ERM\n",
    "from torch.optim import SGD\n",
    "from spuco.models import model_factory\n",
    "import torch\n",
    "\n",
    "device = torch.device(\"cuda\") if torch.cuda.is_available() else torch.device(\"cpu\")\n",
    "\n",
    "model = model_factory(\n",
    "    arch=\"lenet\", input_shape=trainset[0][0].shape, num_classes=trainset.num_classes\n",
    ").to(device)\n",
    "\n",
    "erm = ERM(\n",
    "    model=model,\n",
    "    num_epochs=1,\n",
    "    trainset=trainset,\n",
    "    batch_size=64,\n",
    "    # For simplicity, same optimizer as in sample notebooks\n",
    "    optimizer=SGD(model.parameters(), lr=1e-2, momentum=0.9, nesterov=True),\n",
    "    device=device,\n",
    "    verbose=False\n",
    ")\n",
    "erm.train()"
   ]
  },
  {
   "cell_type": "markdown",
   "id": "a1fd3afb",
   "metadata": {},
   "source": [
    "##### Evaluation before balancing sub-classes"
   ]
  },
  {
   "cell_type": "code",
   "execution_count": 4,
   "id": "932dba00",
   "metadata": {},
   "outputs": [
    {
     "name": "stderr",
     "output_type": "stream",
     "text": [
      "Evaluating group-wise accuracy: 100%|██████████| 25/25 [07:05<00:00, 17.00s/it]\n"
     ]
    },
    {
     "data": {
      "text/plain": [
       "{(0, 0): 100.0,\n",
       " (0, 1): 0.0,\n",
       " (0, 2): 0.0,\n",
       " (0, 3): 0.0,\n",
       " (0, 4): 0.0,\n",
       " (1, 0): 0.0,\n",
       " (1, 1): 100.0,\n",
       " (1, 2): 0.0,\n",
       " (1, 3): 0.0,\n",
       " (1, 4): 0.0,\n",
       " (2, 0): 0.0,\n",
       " (2, 1): 0.0,\n",
       " (2, 2): 100.0,\n",
       " (2, 3): 0.0,\n",
       " (2, 4): 0.0,\n",
       " (3, 0): 0.0,\n",
       " (3, 1): 0.0,\n",
       " (3, 2): 0.0,\n",
       " (3, 3): 100.0,\n",
       " (3, 4): 0.0,\n",
       " (4, 0): 0.0,\n",
       " (4, 1): 0.0,\n",
       " (4, 2): 0.0,\n",
       " (4, 3): 0.0,\n",
       " (4, 4): 100.0}"
      ]
     },
     "execution_count": 4,
     "metadata": {},
     "output_type": "execute_result"
    }
   ],
   "source": [
    "from spuco.evaluate import Evaluator\n",
    "\n",
    "evaluator = Evaluator(\n",
    "    testset=testset,\n",
    "    group_partition=testset.group_partition,\n",
    "    group_weights=trainset.group_weights,\n",
    "    batch_size=64,\n",
    "    model=model,\n",
    "    device=device,\n",
    "    verbose=False\n",
    ")\n",
    "evaluator.evaluate()"
   ]
  },
  {
   "cell_type": "code",
   "execution_count": 5,
   "id": "fd930d2e",
   "metadata": {},
   "outputs": [
    {
     "name": "stdout",
     "output_type": "stream",
     "text": [
      "((0, 1), 0.0)\n",
      "99.49379218398467\n",
      "20.27\n"
     ]
    }
   ],
   "source": [
    "print(evaluator.worst_group_accuracy)\n",
    "print(evaluator.average_accuracy)\n",
    "print(evaluator.evaluate_spurious_attribute_prediction())"
   ]
  },
  {
   "cell_type": "markdown",
   "id": "e1593078",
   "metadata": {},
   "source": [
    "## Step 2:\n",
    "Cluster inputs based on the output they produce for ERM."
   ]
  },
  {
   "cell_type": "code",
   "execution_count": 6,
   "id": "149eb0eb",
   "metadata": {},
   "outputs": [],
   "source": [
    "# Gets logits for our training set across possible superclasses\n",
    "logits = erm.trainer.get_trainset_outputs()"
   ]
  },
  {
   "cell_type": "code",
   "execution_count": 7,
   "id": "1fc17a12",
   "metadata": {},
   "outputs": [],
   "source": [
    "from spuco.group_inference import Cluster\n",
    "\n",
    "cluster = Cluster(\n",
    "    Z=logits,\n",
    "    class_labels=trainset.labels,\n",
    "    # k in [2, 10] pg. 23\n",
    "    max_clusters=10,\n",
    "    device=device,\n",
    "    verbose=False\n",
    ")\n",
    "\n",
    "# Uses silhouette scores per superclass to get k values, pg. 6, pg. 23\n",
    "group_partition = cluster.infer_groups()"
   ]
  },
  {
   "cell_type": "code",
   "execution_count": 8,
   "id": "485c231e",
   "metadata": {},
   "outputs": [
    {
     "name": "stdout",
     "output_type": "stream",
     "text": [
      "(0, 0) 10081\n",
      "(0, 1) 39\n",
      "(0, 2) 13\n",
      "(1, 0) 9623\n",
      "(1, 1) 49\n",
      "(2, 0) 8965\n",
      "(2, 1) 15\n",
      "(2, 2) 10\n",
      "(2, 3) 13\n",
      "(2, 4) 8\n",
      "(3, 0) 9710\n",
      "(3, 1) 13\n",
      "(3, 2) 24\n",
      "(4, 0) 48\n",
      "(4, 1) 9393\n"
     ]
    }
   ],
   "source": [
    "# Distribution of subclasses\n",
    "for key in sorted(group_partition.keys()):\n",
    "    print(key, len(group_partition[key]))"
   ]
  },
  {
   "cell_type": "markdown",
   "id": "b5672891",
   "metadata": {},
   "source": [
    "## Step 3:\n",
    "Retrain using \"Group-Balancing\" to ensure in each batch each group appears equally."
   ]
  },
  {
   "cell_type": "code",
   "execution_count": 9,
   "id": "877d4f27",
   "metadata": {},
   "outputs": [],
   "source": [
    "from spuco.robust_train import GroupBalanceBatchERM\n",
    "\n",
    "# Rebalance each batch using group partition\n",
    "gpb_erm = GroupBalanceBatchERM(\n",
    "    model=model,\n",
    "    trainset=trainset,\n",
    "    group_partition=group_partition,\n",
    "    batch_size=64,\n",
    "    optimizer=SGD(model.parameters(), lr=1e-2, momentum=0.9, nesterov=True),\n",
    "    num_epochs=1,\n",
    "    device=device,\n",
    "    verbose=False\n",
    ")\n",
    "\n",
    "gpb_erm.train()"
   ]
  },
  {
   "cell_type": "markdown",
   "id": "920c8cb8",
   "metadata": {},
   "source": [
    "##### Evaluation after balancing sub-classes"
   ]
  },
  {
   "cell_type": "code",
   "execution_count": 10,
   "id": "3889ce92",
   "metadata": {},
   "outputs": [
    {
     "name": "stderr",
     "output_type": "stream",
     "text": [
      "Evaluating group-wise accuracy: 100%|██████████| 25/25 [07:00<00:00, 16.83s/it]\n"
     ]
    },
    {
     "data": {
      "text/plain": [
       "{(0, 0): 97.16312056737588,\n",
       " (0, 1): 71.63120567375887,\n",
       " (0, 2): 84.16075650118204,\n",
       " (0, 3): 74.46808510638297,\n",
       " (0, 4): 94.56264775413712,\n",
       " (1, 0): 90.2200488997555,\n",
       " (1, 1): 99.26650366748166,\n",
       " (1, 2): 53.431372549019606,\n",
       " (1, 3): 75.24509803921569,\n",
       " (1, 4): 58.8235294117647,\n",
       " (2, 0): 54.93333333333333,\n",
       " (2, 1): 46.666666666666664,\n",
       " (2, 2): 95.2,\n",
       " (2, 3): 80.8,\n",
       " (2, 4): 60.160427807486634,\n",
       " (3, 0): 52.26130653266332,\n",
       " (3, 1): 49.87405541561713,\n",
       " (3, 2): 90.42821158690177,\n",
       " (3, 3): 95.46599496221663,\n",
       " (3, 4): 7.8085642317380355,\n",
       " (4, 0): 71.28463476070529,\n",
       " (4, 1): 42.821158690176325,\n",
       " (4, 2): 45.08816120906801,\n",
       " (4, 3): 74.4949494949495,\n",
       " (4, 4): 94.94949494949495}"
      ]
     },
     "execution_count": 10,
     "metadata": {},
     "output_type": "execute_result"
    }
   ],
   "source": [
    "evaluator = Evaluator(\n",
    "    testset=testset,\n",
    "    group_partition=testset.group_partition,\n",
    "    group_weights=trainset.group_weights,\n",
    "    batch_size=64,\n",
    "    model=model,\n",
    "    device=device,\n",
    "    verbose=False\n",
    ")\n",
    "evaluator.evaluate()"
   ]
  },
  {
   "cell_type": "code",
   "execution_count": 11,
   "id": "c27348e6",
   "metadata": {},
   "outputs": [
    {
     "name": "stdout",
     "output_type": "stream",
     "text": [
      "((3, 4), 7.8085642317380355)\n",
      "96.28908895570329\n",
      "20.36\n"
     ]
    }
   ],
   "source": [
    "print(evaluator.worst_group_accuracy)\n",
    "print(evaluator.average_accuracy)\n",
    "print(evaluator.evaluate_spurious_attribute_prediction())"
   ]
  }
 ],
 "metadata": {
  "kernelspec": {
   "display_name": "venv",
   "language": "python",
   "name": "python3"
  },
  "language_info": {
   "codemirror_mode": {
    "name": "ipython",
    "version": 3
   },
   "file_extension": ".py",
   "mimetype": "text/x-python",
   "name": "python",
   "nbconvert_exporter": "python",
   "pygments_lexer": "ipython3",
   "version": "3.12.2"
  }
 },
 "nbformat": 4,
 "nbformat_minor": 5
}
