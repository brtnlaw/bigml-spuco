{
 "cells": [
  {
   "cell_type": "markdown",
   "id": "1415a02c",
   "metadata": {},
   "source": [
    "Coding Assignment: Implementing a Solution for the Spurious Correlations Problem\n",
    "\n",
    "[Self-assessment for those interested in Empirical Work]. If this is too difficult for you, please consider taking more ML courses first.\n",
    "\n",
    "We have a sample task just to help us understand if you're familiar with Pytorch etc. and how comfortable you are with machine learning in general.\n",
    "\n",
    "Deep neural networks often exploit non-predictive features that are spuriously correlated with class labels, leading to poor performance on groups of examples without such features. Using the SpuCo Package (SpuCo Documentation), we'd like you to implement a simple method to remedy spurious correlations in SpuCoMNIST (use default parameters to initialize the dataset). https://spuco.readthedocs.io/en/latest/\n",
    "\n",
    "The method (George) we'd like you to implement has a 3 step pipeline: https://arxiv.org/abs/2011.12945\n",
    "1. Train a model using ERM\n",
    "2. Cluster inputs based on the output they produce for ERM\n",
    "3. Retrain using \"Group-Balancing\" to ensure in each batch each group appears equally.\n",
    "\n",
    "We'd like you to send us a notebook with your code and outputs (similar to the SpuCo Quickstart Notebooks).\n",
    "\n",
    "Upload your notebook (with both code and outputs) to a public GitHub repository and share the link here. "
   ]
  },
  {
   "cell_type": "code",
   "execution_count": 9,
   "id": "57b028a0",
   "metadata": {},
   "outputs": [],
   "source": [
    "import warnings\n",
    "from tqdm import TqdmWarning\n",
    "\n",
    "warnings.filterwarnings(\"ignore\", category=UserWarning)\n",
    "warnings.filterwarnings(\"ignore\", category=TqdmWarning)"
   ]
  },
  {
   "cell_type": "code",
   "execution_count": null,
   "id": "012c3f4a",
   "metadata": {},
   "outputs": [],
   "source": [
    "from spuco.datasets import SpuCoMNIST, SpuriousFeatureDifficulty\n",
    "\n",
    "# Defaults from the notebook examples\n",
    "classes = [[0, 1], [2, 3], [4, 5], [6, 7], [8, 9]]\n",
    "difficulty = SpuriousFeatureDifficulty.MAGNITUDE_LARGE\n",
    "\n",
    "trainset = SpuCoMNIST(\n",
    "    root=\"/data/mnist/\",\n",
    "    spurious_feature_difficulty=difficulty,\n",
    "    spurious_correlation_strength=0.995,\n",
    "    classes=classes,\n",
    "    split=\"train\",\n",
    ")\n",
    "trainset.initialize()\n",
    "\n",
    "testset = SpuCoMNIST(\n",
    "    root=\"/data/mnist/\",\n",
    "    spurious_feature_difficulty=difficulty,\n",
    "    classes=classes,\n",
    "    split=\"test\",\n",
    ")\n",
    "testset.initialize()"
   ]
  },
  {
   "cell_type": "markdown",
   "id": "873a24b0",
   "metadata": {},
   "source": [
    "## Step 1:\n",
    "Train a model using ERM."
   ]
  },
  {
   "cell_type": "code",
   "execution_count": null,
   "id": "5bdb155d",
   "metadata": {},
   "outputs": [],
   "source": [
    "from spuco.robust_train import ERM\n",
    "from torch.optim import SGD\n",
    "from spuco.models import model_factory\n",
    "import torch\n",
    "\n",
    "device = torch.device(\"cuda\") if torch.cuda.is_available() else torch.device(\"cpu\")\n",
    "\n",
    "# Using LeNet for images\n",
    "model = model_factory(\n",
    "    arch=\"lenet\", input_shape=trainset[0][0].shape, num_classes=trainset.num_classes\n",
    ").to(device)\n",
    "\n",
    "erm = ERM(\n",
    "    model=model,\n",
    "    num_epochs=1,\n",
    "    trainset=trainset,\n",
    "    batch_size=64,\n",
    "    # For simplicity, same optimizer as in samples\n",
    "    optimizer=SGD(model.parameters(), lr=1e-2, momentum=0.9, nesterov=True),\n",
    "    device=device,\n",
    "    verbose=False\n",
    ")\n",
    "erm.train()"
   ]
  },
  {
   "cell_type": "markdown",
   "id": "a1fd3afb",
   "metadata": {},
   "source": [
    "##### Evaluation before balancing sub-classes"
   ]
  },
  {
   "cell_type": "code",
   "execution_count": 4,
   "id": "932dba00",
   "metadata": {},
   "outputs": [
    {
     "name": "stderr",
     "output_type": "stream",
     "text": [
      "Evaluating group-wise accuracy:   0%|          | 0/25 [00:00<?, ?it/s]"
     ]
    },
    {
     "name": "stderr",
     "output_type": "stream",
     "text": [
      "Evaluating group-wise accuracy: 100%|██████████| 25/25 [07:29<00:00, 17.96s/it]\n"
     ]
    },
    {
     "data": {
      "text/plain": [
       "{(0, 0): 100.0,\n",
       " (0, 1): 0.0,\n",
       " (0, 2): 0.0,\n",
       " (0, 3): 0.0,\n",
       " (0, 4): 0.0,\n",
       " (1, 0): 0.0,\n",
       " (1, 1): 100.0,\n",
       " (1, 2): 0.0,\n",
       " (1, 3): 0.0,\n",
       " (1, 4): 0.0,\n",
       " (2, 0): 0.0,\n",
       " (2, 1): 0.0,\n",
       " (2, 2): 100.0,\n",
       " (2, 3): 0.0,\n",
       " (2, 4): 0.0,\n",
       " (3, 0): 0.0,\n",
       " (3, 1): 0.0,\n",
       " (3, 2): 0.0,\n",
       " (3, 3): 100.0,\n",
       " (3, 4): 0.0,\n",
       " (4, 0): 0.0,\n",
       " (4, 1): 0.0,\n",
       " (4, 2): 0.0,\n",
       " (4, 3): 0.0,\n",
       " (4, 4): 100.0}"
      ]
     },
     "execution_count": 4,
     "metadata": {},
     "output_type": "execute_result"
    }
   ],
   "source": [
    "from spuco.evaluate import Evaluator\n",
    "\n",
    "evaluator = Evaluator(\n",
    "    testset=testset,\n",
    "    group_partition=testset.group_partition,\n",
    "    group_weights=trainset.group_weights,\n",
    "    batch_size=64,\n",
    "    model=model,\n",
    "    device=device,\n",
    "    verbose=False\n",
    ")\n",
    "evaluator.evaluate()"
   ]
  },
  {
   "cell_type": "markdown",
   "id": "e1593078",
   "metadata": {},
   "source": [
    "## Step 2:\n",
    "Cluster inputs based on the output they produce for ERM."
   ]
  },
  {
   "cell_type": "code",
   "execution_count": null,
   "id": "149eb0eb",
   "metadata": {},
   "outputs": [],
   "source": [
    "# Gets logits for our training set across possible superclasses\n",
    "logits = erm.trainer.get_trainset_outputs()"
   ]
  },
  {
   "cell_type": "code",
   "execution_count": null,
   "id": "1fc17a12",
   "metadata": {},
   "outputs": [
    {
     "name": "stderr",
     "output_type": "stream",
     "text": [
      "Clustering class-wise:   0%|          | 0/5 [00:00<?, ?it/s]"
     ]
    },
    {
     "name": "stdout",
     "output_type": "stream",
     "text": [
      "For n_clusters = 2 The average silhouette_score is : 0.9629660248756409\n",
      "For n_clusters = 3 The average silhouette_score is : 0.962044358253479\n",
      "For n_clusters = 4 The average silhouette_score is : 0.9633027911186218\n",
      "For n_clusters = 5 The average silhouette_score is : 0.5213839411735535\n",
      "For n_clusters = 6 The average silhouette_score is : 0.5249813199043274\n",
      "For n_clusters = 7 The average silhouette_score is : 0.4771381914615631\n",
      "For n_clusters = 8 The average silhouette_score is : 0.41998812556266785\n",
      "For n_clusters = 9 The average silhouette_score is : 0.39356228709220886\n"
     ]
    },
    {
     "name": "stderr",
     "output_type": "stream",
     "text": [
      "Clustering class-wise:  20%|██        | 1/5 [00:08<00:35,  8.89s/it]"
     ]
    },
    {
     "name": "stdout",
     "output_type": "stream",
     "text": [
      "For n_clusters = 10 The average silhouette_score is : 0.35772427916526794\n",
      "For n_clusters = 2 The average silhouette_score is : 0.9450042843818665\n",
      "For n_clusters = 3 The average silhouette_score is : 0.6658995747566223\n",
      "For n_clusters = 4 The average silhouette_score is : 0.6672133207321167\n",
      "For n_clusters = 5 The average silhouette_score is : 0.6685448288917542\n",
      "For n_clusters = 6 The average silhouette_score is : 0.6695531606674194\n",
      "For n_clusters = 7 The average silhouette_score is : 0.6078675985336304\n",
      "For n_clusters = 8 The average silhouette_score is : 0.5511408448219299\n",
      "For n_clusters = 9 The average silhouette_score is : 0.476537823677063\n"
     ]
    },
    {
     "name": "stderr",
     "output_type": "stream",
     "text": [
      "Clustering class-wise:  40%|████      | 2/5 [00:19<00:30, 10.01s/it]"
     ]
    },
    {
     "name": "stdout",
     "output_type": "stream",
     "text": [
      "For n_clusters = 10 The average silhouette_score is : 0.4567190110683441\n",
      "For n_clusters = 2 The average silhouette_score is : 0.9456753730773926\n",
      "For n_clusters = 3 The average silhouette_score is : 0.5008295774459839\n",
      "For n_clusters = 4 The average silhouette_score is : 0.5015779733657837\n",
      "For n_clusters = 5 The average silhouette_score is : 0.5037319660186768\n",
      "For n_clusters = 6 The average silhouette_score is : 0.504131555557251\n",
      "For n_clusters = 7 The average silhouette_score is : 0.438045471906662\n",
      "For n_clusters = 8 The average silhouette_score is : 0.3961904048919678\n",
      "For n_clusters = 9 The average silhouette_score is : 0.3542941212654114\n"
     ]
    },
    {
     "name": "stderr",
     "output_type": "stream",
     "text": [
      "Clustering class-wise:  60%|██████    | 3/5 [00:29<00:19,  9.82s/it]"
     ]
    },
    {
     "name": "stdout",
     "output_type": "stream",
     "text": [
      "For n_clusters = 10 The average silhouette_score is : 0.33044400811195374\n",
      "For n_clusters = 2 The average silhouette_score is : 0.9811540246009827\n",
      "For n_clusters = 3 The average silhouette_score is : 0.9810868501663208\n",
      "For n_clusters = 4 The average silhouette_score is : 0.9833795428276062\n",
      "For n_clusters = 5 The average silhouette_score is : 0.9829742908477783\n",
      "For n_clusters = 6 The average silhouette_score is : 0.4533403217792511\n",
      "For n_clusters = 7 The average silhouette_score is : 0.38894420862197876\n",
      "For n_clusters = 8 The average silhouette_score is : 0.3568340539932251\n",
      "For n_clusters = 9 The average silhouette_score is : 0.3178868591785431\n"
     ]
    },
    {
     "name": "stderr",
     "output_type": "stream",
     "text": [
      "Clustering class-wise:  80%|████████  | 4/5 [00:39<00:10, 10.10s/it]"
     ]
    },
    {
     "name": "stdout",
     "output_type": "stream",
     "text": [
      "For n_clusters = 10 The average silhouette_score is : 0.2881195545196533\n",
      "For n_clusters = 2 The average silhouette_score is : 0.9447611570358276\n",
      "For n_clusters = 3 The average silhouette_score is : 0.5244637727737427\n",
      "For n_clusters = 4 The average silhouette_score is : 0.5257400274276733\n",
      "For n_clusters = 5 The average silhouette_score is : 0.5266082286834717\n",
      "For n_clusters = 6 The average silhouette_score is : 0.5279449224472046\n",
      "For n_clusters = 7 The average silhouette_score is : 0.4734761714935303\n",
      "For n_clusters = 8 The average silhouette_score is : 0.43740060925483704\n",
      "For n_clusters = 9 The average silhouette_score is : 0.40999120473861694\n"
     ]
    },
    {
     "name": "stderr",
     "output_type": "stream",
     "text": [
      "Clustering class-wise: 100%|██████████| 5/5 [00:49<00:00,  9.94s/it]"
     ]
    },
    {
     "name": "stdout",
     "output_type": "stream",
     "text": [
      "For n_clusters = 10 The average silhouette_score is : 0.37849894165992737\n"
     ]
    },
    {
     "name": "stderr",
     "output_type": "stream",
     "text": [
      "\n"
     ]
    }
   ],
   "source": [
    "from spuco.group_inference import Cluster\n",
    "\n",
    "cluster = Cluster(\n",
    "    Z=logits,\n",
    "    class_labels=trainset.labels,\n",
    "    # k in [2, 10] pg. 23\n",
    "    max_clusters=10,\n",
    "    device=device,\n",
    "    verbose=True\n",
    ")\n",
    "\n",
    "# Uses silhouette scores per superclass to get k values, pg. 6, pg. 23\n",
    "group_partition = cluster.infer_groups()"
   ]
  },
  {
   "cell_type": "code",
   "execution_count": 41,
   "id": "485c231e",
   "metadata": {},
   "outputs": [
    {
     "name": "stdout",
     "output_type": "stream",
     "text": [
      "(0, 0) 51\n",
      "(0, 1) 10082\n",
      "(1, 0) 9623\n",
      "(1, 1) 11\n",
      "(1, 2) 17\n",
      "(1, 3) 21\n",
      "(2, 0) 8965\n",
      "(2, 1) 14\n",
      "(2, 2) 11\n",
      "(2, 3) 21\n",
      "(3, 0) 9698\n",
      "(3, 1) 49\n",
      "(4, 0) 9393\n",
      "(4, 1) 48\n"
     ]
    }
   ],
   "source": [
    "# Distribution of subclasses\n",
    "for key in sorted(group_partition.keys()):\n",
    "    print(key, len(group_partition[key]))"
   ]
  },
  {
   "cell_type": "markdown",
   "id": "b5672891",
   "metadata": {},
   "source": [
    "## Step 3:\n",
    "Retrain using \"Group-Balancing\" to ensure in each batch each group appears equally."
   ]
  },
  {
   "cell_type": "code",
   "execution_count": null,
   "id": "877d4f27",
   "metadata": {},
   "outputs": [],
   "source": [
    "from spuco.robust_train import GroupBalanceBatchERM\n",
    "\n",
    "# Rebalance each batch using group partition\n",
    "gpb_erm = GroupBalanceBatchERM(\n",
    "    model=model,\n",
    "    trainset=trainset,\n",
    "    group_partition=group_partition,\n",
    "    batch_size=64,\n",
    "    optimizer=SGD(model.parameters(), lr=1e-2, momentum=0.9, nesterov=True),\n",
    "    num_epochs=1,\n",
    "    device=device,\n",
    "    verbose=False\n",
    ")\n",
    "\n",
    "gpb_erm.train()"
   ]
  },
  {
   "cell_type": "markdown",
   "id": "920c8cb8",
   "metadata": {},
   "source": [
    "##### Evaluation after balancing sub-classes"
   ]
  },
  {
   "cell_type": "code",
   "execution_count": null,
   "id": "3889ce92",
   "metadata": {},
   "outputs": [
    {
     "name": "stderr",
     "output_type": "stream",
     "text": [
      "Evaluating group-wise accuracy:   4%|▍         | 1/25 [00:36<14:30, 36.28s/it]"
     ]
    },
    {
     "name": "stdout",
     "output_type": "stream",
     "text": [
      "Group (0, 0) Accuracy: 99.29078014184397\n"
     ]
    },
    {
     "name": "stderr",
     "output_type": "stream",
     "text": [
      "Evaluating group-wise accuracy:   8%|▊         | 2/25 [00:55<10:01, 26.15s/it]"
     ]
    },
    {
     "name": "stdout",
     "output_type": "stream",
     "text": [
      "Group (0, 1) Accuracy: 86.05200945626477\n"
     ]
    },
    {
     "name": "stderr",
     "output_type": "stream",
     "text": [
      "Evaluating group-wise accuracy:  12%|█▏        | 3/25 [01:14<08:26, 23.02s/it]"
     ]
    },
    {
     "name": "stdout",
     "output_type": "stream",
     "text": [
      "Group (0, 2) Accuracy: 89.12529550827423\n"
     ]
    },
    {
     "name": "stderr",
     "output_type": "stream",
     "text": [
      "Evaluating group-wise accuracy:  16%|█▌        | 4/25 [01:40<08:23, 23.96s/it]"
     ]
    },
    {
     "name": "stdout",
     "output_type": "stream",
     "text": [
      "Group (0, 3) Accuracy: 80.61465721040189\n"
     ]
    },
    {
     "name": "stderr",
     "output_type": "stream",
     "text": [
      "Evaluating group-wise accuracy:  20%|██        | 5/25 [02:02<07:45, 23.25s/it]"
     ]
    },
    {
     "name": "stdout",
     "output_type": "stream",
     "text": [
      "Group (0, 4) Accuracy: 77.77777777777777\n"
     ]
    },
    {
     "name": "stderr",
     "output_type": "stream",
     "text": [
      "Evaluating group-wise accuracy:  24%|██▍       | 6/25 [02:20<06:50, 21.60s/it]"
     ]
    },
    {
     "name": "stdout",
     "output_type": "stream",
     "text": [
      "Group (1, 0) Accuracy: 74.81662591687042\n"
     ]
    },
    {
     "name": "stderr",
     "output_type": "stream",
     "text": [
      "Evaluating group-wise accuracy:  28%|██▊       | 7/25 [02:36<05:58, 19.91s/it]"
     ]
    },
    {
     "name": "stdout",
     "output_type": "stream",
     "text": [
      "Group (1, 1) Accuracy: 98.0440097799511\n"
     ]
    },
    {
     "name": "stderr",
     "output_type": "stream",
     "text": [
      "Evaluating group-wise accuracy:  32%|███▏      | 8/25 [02:55<05:30, 19.42s/it]"
     ]
    },
    {
     "name": "stdout",
     "output_type": "stream",
     "text": [
      "Group (1, 2) Accuracy: 76.7156862745098\n"
     ]
    },
    {
     "name": "stderr",
     "output_type": "stream",
     "text": [
      "Evaluating group-wise accuracy:  36%|███▌      | 9/25 [03:13<05:03, 18.99s/it]"
     ]
    },
    {
     "name": "stdout",
     "output_type": "stream",
     "text": [
      "Group (1, 3) Accuracy: 67.6470588235294\n"
     ]
    },
    {
     "name": "stderr",
     "output_type": "stream",
     "text": [
      "Evaluating group-wise accuracy:  40%|████      | 10/25 [03:30<04:34, 18.29s/it]"
     ]
    },
    {
     "name": "stdout",
     "output_type": "stream",
     "text": [
      "Group (1, 4) Accuracy: 82.84313725490196\n"
     ]
    },
    {
     "name": "stderr",
     "output_type": "stream",
     "text": [
      "Evaluating group-wise accuracy:  44%|████▍     | 11/25 [03:47<04:14, 18.16s/it]"
     ]
    },
    {
     "name": "stdout",
     "output_type": "stream",
     "text": [
      "Group (2, 0) Accuracy: 79.2\n"
     ]
    },
    {
     "name": "stderr",
     "output_type": "stream",
     "text": [
      "Evaluating group-wise accuracy:  48%|████▊     | 12/25 [04:05<03:55, 18.13s/it]"
     ]
    },
    {
     "name": "stdout",
     "output_type": "stream",
     "text": [
      "Group (2, 1) Accuracy: 17.6\n"
     ]
    },
    {
     "name": "stderr",
     "output_type": "stream",
     "text": [
      "Evaluating group-wise accuracy:  52%|█████▏    | 13/25 [04:23<03:34, 17.85s/it]"
     ]
    },
    {
     "name": "stdout",
     "output_type": "stream",
     "text": [
      "Group (2, 2) Accuracy: 94.4\n"
     ]
    },
    {
     "name": "stderr",
     "output_type": "stream",
     "text": [
      "Evaluating group-wise accuracy:  56%|█████▌    | 14/25 [04:40<03:15, 17.82s/it]"
     ]
    },
    {
     "name": "stdout",
     "output_type": "stream",
     "text": [
      "Group (2, 3) Accuracy: 52.0\n"
     ]
    },
    {
     "name": "stderr",
     "output_type": "stream",
     "text": [
      "Evaluating group-wise accuracy:  60%|██████    | 15/25 [04:59<02:59, 17.94s/it]"
     ]
    },
    {
     "name": "stdout",
     "output_type": "stream",
     "text": [
      "Group (2, 4) Accuracy: 71.65775401069519\n"
     ]
    },
    {
     "name": "stderr",
     "output_type": "stream",
     "text": [
      "Evaluating group-wise accuracy:  64%|██████▍   | 16/25 [05:17<02:42, 18.10s/it]"
     ]
    },
    {
     "name": "stdout",
     "output_type": "stream",
     "text": [
      "Group (3, 0) Accuracy: 76.38190954773869\n"
     ]
    },
    {
     "name": "stderr",
     "output_type": "stream",
     "text": [
      "Evaluating group-wise accuracy:  68%|██████▊   | 17/25 [05:35<02:25, 18.15s/it]"
     ]
    },
    {
     "name": "stdout",
     "output_type": "stream",
     "text": [
      "Group (3, 1) Accuracy: 75.31486146095718\n"
     ]
    },
    {
     "name": "stderr",
     "output_type": "stream",
     "text": [
      "Evaluating group-wise accuracy:  72%|███████▏  | 18/25 [05:54<02:08, 18.36s/it]"
     ]
    },
    {
     "name": "stdout",
     "output_type": "stream",
     "text": [
      "Group (3, 2) Accuracy: 83.62720403022671\n"
     ]
    },
    {
     "name": "stderr",
     "output_type": "stream",
     "text": [
      "Evaluating group-wise accuracy:  76%|███████▌  | 19/25 [06:12<01:48, 18.06s/it]"
     ]
    },
    {
     "name": "stdout",
     "output_type": "stream",
     "text": [
      "Group (3, 3) Accuracy: 98.99244332493703\n"
     ]
    },
    {
     "name": "stderr",
     "output_type": "stream",
     "text": [
      "Evaluating group-wise accuracy:  80%|████████  | 20/25 [06:28<01:28, 17.65s/it]"
     ]
    },
    {
     "name": "stdout",
     "output_type": "stream",
     "text": [
      "Group (3, 4) Accuracy: 58.94206549118388\n"
     ]
    },
    {
     "name": "stderr",
     "output_type": "stream",
     "text": [
      "Evaluating group-wise accuracy:  84%|████████▍ | 21/25 [06:46<01:10, 17.61s/it]"
     ]
    },
    {
     "name": "stdout",
     "output_type": "stream",
     "text": [
      "Group (4, 0) Accuracy: 80.10075566750629\n"
     ]
    },
    {
     "name": "stderr",
     "output_type": "stream",
     "text": [
      "Evaluating group-wise accuracy:  88%|████████▊ | 22/25 [07:03<00:52, 17.52s/it]"
     ]
    },
    {
     "name": "stdout",
     "output_type": "stream",
     "text": [
      "Group (4, 1) Accuracy: 69.0176322418136\n"
     ]
    },
    {
     "name": "stderr",
     "output_type": "stream",
     "text": [
      "Evaluating group-wise accuracy:  92%|█████████▏| 23/25 [07:21<00:35, 17.58s/it]"
     ]
    },
    {
     "name": "stdout",
     "output_type": "stream",
     "text": [
      "Group (4, 2) Accuracy: 75.31486146095718\n"
     ]
    },
    {
     "name": "stderr",
     "output_type": "stream",
     "text": [
      "Evaluating group-wise accuracy:  96%|█████████▌| 24/25 [07:38<00:17, 17.39s/it]"
     ]
    },
    {
     "name": "stdout",
     "output_type": "stream",
     "text": [
      "Group (4, 3) Accuracy: 63.38383838383838\n"
     ]
    },
    {
     "name": "stderr",
     "output_type": "stream",
     "text": [
      "Evaluating group-wise accuracy: 100%|██████████| 25/25 [07:54<00:00, 18.99s/it]"
     ]
    },
    {
     "name": "stdout",
     "output_type": "stream",
     "text": [
      "Group (4, 4) Accuracy: 94.6969696969697\n"
     ]
    },
    {
     "name": "stderr",
     "output_type": "stream",
     "text": [
      "\n"
     ]
    },
    {
     "data": {
      "text/plain": [
       "{(0, 0): 99.29078014184397,\n",
       " (0, 1): 86.05200945626477,\n",
       " (0, 2): 89.12529550827423,\n",
       " (0, 3): 80.61465721040189,\n",
       " (0, 4): 77.77777777777777,\n",
       " (1, 0): 74.81662591687042,\n",
       " (1, 1): 98.0440097799511,\n",
       " (1, 2): 76.7156862745098,\n",
       " (1, 3): 67.6470588235294,\n",
       " (1, 4): 82.84313725490196,\n",
       " (2, 0): 79.2,\n",
       " (2, 1): 17.6,\n",
       " (2, 2): 94.4,\n",
       " (2, 3): 52.0,\n",
       " (2, 4): 71.65775401069519,\n",
       " (3, 0): 76.38190954773869,\n",
       " (3, 1): 75.31486146095718,\n",
       " (3, 2): 83.62720403022671,\n",
       " (3, 3): 98.99244332493703,\n",
       " (3, 4): 58.94206549118388,\n",
       " (4, 0): 80.10075566750629,\n",
       " (4, 1): 69.0176322418136,\n",
       " (4, 2): 75.31486146095718,\n",
       " (4, 3): 63.38383838383838,\n",
       " (4, 4): 94.6969696969697}"
      ]
     },
     "execution_count": 158,
     "metadata": {},
     "output_type": "execute_result"
    }
   ],
   "source": [
    "evaluator = Evaluator(\n",
    "    testset=testset,\n",
    "    group_partition=testset.group_partition,\n",
    "    group_weights=trainset.group_weights,\n",
    "    batch_size=64,\n",
    "    model=model,\n",
    "    device=device,\n",
    "    verbose=False\n",
    ")\n",
    "evaluator.evaluate()"
   ]
  }
 ],
 "metadata": {
  "kernelspec": {
   "display_name": "venv",
   "language": "python",
   "name": "python3"
  },
  "language_info": {
   "codemirror_mode": {
    "name": "ipython",
    "version": 3
   },
   "file_extension": ".py",
   "mimetype": "text/x-python",
   "name": "python",
   "nbconvert_exporter": "python",
   "pygments_lexer": "ipython3",
   "version": "3.12.2"
  }
 },
 "nbformat": 4,
 "nbformat_minor": 5
}
